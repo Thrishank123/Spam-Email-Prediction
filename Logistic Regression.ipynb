{
 "cells": [
  {
   "cell_type": "code",
   "execution_count": 1,
   "id": "2f46d242-5146-44cd-a409-56f22e80451b",
   "metadata": {},
   "outputs": [
    {
     "name": "stdout",
     "output_type": "stream",
     "text": [
      "LogisticRegression()\n",
      "Accuracy: 1.0\n",
      "Confusion Matrix:\n",
      "[[1 0]\n",
      " [0 2]]\n",
      "Classification Report:\n",
      "              precision    recall  f1-score   support\n",
      "\n",
      "           0       1.00      1.00      1.00         1\n",
      "           1       1.00      1.00      1.00         2\n",
      "\n",
      "    accuracy                           1.00         3\n",
      "   macro avg       1.00      1.00      1.00         3\n",
      "weighted avg       1.00      1.00      1.00         3\n",
      "\n",
      "Predicted Probabilities:\n",
      "[[4.45955395e-07 9.99999554e-01]\n",
      " [1.48769885e-14 1.00000000e+00]\n",
      " [9.99986445e-01 1.35551958e-05]]\n"
     ]
    }
   ],
   "source": [
    "# Import necessary libraries\n",
    "import numpy as np\n",
    "import pandas as pd\n",
    "# Create the dataset\n",
    "data = {\n",
    "    'Email Length': [50, 200, 30, 150, 80, 300, 60, 250],\n",
    "    'Has Links': [1, 1, 0, 1, 0, 1, 0, 1],\n",
    "    'Has Exclamation Marks': [0, 1, 0, 1, 0, 1, 1, 1],\n",
    "    'Has Dollar Signs': [0, 1, 0, 0, 0, 1, 0, 0],\n",
    "    'Contains \"Buy\"': [0, 1, 0, 1, 0, 1, 0, 1],\n",
    "    'Spam': [0, 1, 0, 1, 0, 1, 0, 1]\n",
    "}\n",
    "\n",
    "# Convert to a DataFrame\n",
    "df = pd.DataFrame(data)\n",
    "df.head(8)\n",
    "from sklearn.model_selection import train_test_split\n",
    "# Split data into features (X) and target (y)\n",
    "X = df[['Email Length', 'Has Links', 'Has Exclamation Marks', 'Has Dollar Signs', 'Contains \"Buy\"']]\n",
    "y = df['Spam']\n",
    "\n",
    "# Step 1: Split the dataset into training and testing sets\n",
    "X_train, X_test, y_train, y_test = train_test_split(X, y, test_size=0.33, random_state=42)\n",
    "from sklearn.linear_model import LogisticRegression\n",
    "\n",
    "# Step 2: Create the Logistic Regression model\n",
    "model = LogisticRegression()\n",
    "\n",
    "# Step 3: Train the model\n",
    "model.fit(X_train, y_train)\n",
    "print(model)\n",
    "# Step 4: Make predictions on the test set\n",
    "y_pred = model.predict(X_test)\n",
    "\n",
    "from sklearn.metrics import accuracy_score, confusion_matrix, classification_report\n",
    "\n",
    "# Step 5: Evaluate the model\n",
    "accuracy = accuracy_score(y_test, y_pred)\n",
    "conf_matrix = confusion_matrix(y_test, y_pred)\n",
    "\n",
    "print(f\"Accuracy: {accuracy}\")\n",
    "print(\"Confusion Matrix:\")\n",
    "print(conf_matrix)\n",
    "print(\"Classification Report:\")\n",
    "print(classification_report(y_test, y_pred))\n",
    "\n",
    "# Optional: Predict probabilities\n",
    "y_pred_proba = model.predict_proba(X_test)\n",
    "print(\"Predicted Probabilities:\")\n",
    "print(y_pred_proba)"
   ]
  },
  {
   "cell_type": "code",
   "execution_count": 2,
   "id": "690c31a3-c7bd-4995-a990-6f2066c08a8c",
   "metadata": {},
   "outputs": [
    {
     "name": "stdout",
     "output_type": "stream",
     "text": [
      "Model Details:\n",
      "Intercept (Bias): -19.820151024789116\n",
      "Coefficients: [0.17217975 0.00243621 0.0023741  0.         0.00243621]\n"
     ]
    }
   ],
   "source": [
    "# Print model details\n",
    "print(\"Model Details:\")\n",
    "print(f\"Intercept (Bias): {model.intercept_[0]}\")\n",
    "print(f\"Coefficients: {model.coef_[0]}\")"
   ]
  },
  {
   "cell_type": "code",
   "execution_count": 3,
   "id": "fdc30990-d972-401f-b41b-d852487fd7a8",
   "metadata": {},
   "outputs": [],
   "source": [
    "# Import necessary libraries\n",
    "import numpy as np\n",
    "import pandas as pd"
   ]
  },
  {
   "cell_type": "code",
   "execution_count": 4,
   "id": "ed3897d7-819b-4e2d-9c16-3e346e593375",
   "metadata": {},
   "outputs": [
    {
     "data": {
      "text/html": [
       "<div>\n",
       "<style scoped>\n",
       "    .dataframe tbody tr th:only-of-type {\n",
       "        vertical-align: middle;\n",
       "    }\n",
       "\n",
       "    .dataframe tbody tr th {\n",
       "        vertical-align: top;\n",
       "    }\n",
       "\n",
       "    .dataframe thead th {\n",
       "        text-align: right;\n",
       "    }\n",
       "</style>\n",
       "<table border=\"1\" class=\"dataframe\">\n",
       "  <thead>\n",
       "    <tr style=\"text-align: right;\">\n",
       "      <th></th>\n",
       "      <th>Email Length</th>\n",
       "      <th>Has Links</th>\n",
       "      <th>Has Exclamation Marks</th>\n",
       "      <th>Has Dollar Signs</th>\n",
       "      <th>Contains \"Buy\"</th>\n",
       "      <th>Spam</th>\n",
       "    </tr>\n",
       "  </thead>\n",
       "  <tbody>\n",
       "    <tr>\n",
       "      <th>0</th>\n",
       "      <td>50</td>\n",
       "      <td>1</td>\n",
       "      <td>0</td>\n",
       "      <td>0</td>\n",
       "      <td>0</td>\n",
       "      <td>0</td>\n",
       "    </tr>\n",
       "    <tr>\n",
       "      <th>1</th>\n",
       "      <td>200</td>\n",
       "      <td>1</td>\n",
       "      <td>1</td>\n",
       "      <td>1</td>\n",
       "      <td>1</td>\n",
       "      <td>1</td>\n",
       "    </tr>\n",
       "    <tr>\n",
       "      <th>2</th>\n",
       "      <td>30</td>\n",
       "      <td>0</td>\n",
       "      <td>0</td>\n",
       "      <td>0</td>\n",
       "      <td>0</td>\n",
       "      <td>0</td>\n",
       "    </tr>\n",
       "    <tr>\n",
       "      <th>3</th>\n",
       "      <td>150</td>\n",
       "      <td>1</td>\n",
       "      <td>1</td>\n",
       "      <td>0</td>\n",
       "      <td>1</td>\n",
       "      <td>1</td>\n",
       "    </tr>\n",
       "    <tr>\n",
       "      <th>4</th>\n",
       "      <td>80</td>\n",
       "      <td>0</td>\n",
       "      <td>0</td>\n",
       "      <td>0</td>\n",
       "      <td>0</td>\n",
       "      <td>0</td>\n",
       "    </tr>\n",
       "  </tbody>\n",
       "</table>\n",
       "</div>"
      ],
      "text/plain": [
       "   Email Length  Has Links  Has Exclamation Marks  Has Dollar Signs  \\\n",
       "0            50          1                      0                 0   \n",
       "1           200          1                      1                 1   \n",
       "2            30          0                      0                 0   \n",
       "3           150          1                      1                 0   \n",
       "4            80          0                      0                 0   \n",
       "\n",
       "   Contains \"Buy\"  Spam  \n",
       "0               0     0  \n",
       "1               1     1  \n",
       "2               0     0  \n",
       "3               1     1  \n",
       "4               0     0  "
      ]
     },
     "execution_count": 4,
     "metadata": {},
     "output_type": "execute_result"
    }
   ],
   "source": [
    "# Create the dataset\n",
    "data = {\n",
    "    'Email Length': [50, 200, 30, 150, 80, 300, 60, 250],\n",
    "    'Has Links': [1, 1, 0, 1, 0, 1, 0, 1],\n",
    "    'Has Exclamation Marks': [0, 1, 0, 1, 0, 1, 1, 1],\n",
    "    'Has Dollar Signs': [0, 1, 0, 0, 0, 1, 0, 0],\n",
    "    'Contains \"Buy\"': [0, 1, 0, 1, 0, 1, 0, 1],\n",
    "    'Spam': [0, 1, 0, 1, 0, 1, 0, 1]\n",
    "}\n",
    "\n",
    "# Convert to a DataFrame\n",
    "df = pd.DataFrame(data)\n",
    "df.head()"
   ]
  },
  {
   "cell_type": "code",
   "execution_count": 5,
   "id": "a689e063-0791-4af4-a317-19d18dc1ad15",
   "metadata": {},
   "outputs": [],
   "source": [
    "from sklearn.model_selection import train_test_split"
   ]
  },
  {
   "cell_type": "code",
   "execution_count": 6,
   "id": "f8a14b90-3bb6-463a-80de-0c52a4d8b312",
   "metadata": {},
   "outputs": [
    {
     "data": {
      "text/html": [
       "<div>\n",
       "<style scoped>\n",
       "    .dataframe tbody tr th:only-of-type {\n",
       "        vertical-align: middle;\n",
       "    }\n",
       "\n",
       "    .dataframe tbody tr th {\n",
       "        vertical-align: top;\n",
       "    }\n",
       "\n",
       "    .dataframe thead th {\n",
       "        text-align: right;\n",
       "    }\n",
       "</style>\n",
       "<table border=\"1\" class=\"dataframe\">\n",
       "  <thead>\n",
       "    <tr style=\"text-align: right;\">\n",
       "      <th></th>\n",
       "      <th>Email Length</th>\n",
       "      <th>Has Links</th>\n",
       "      <th>Has Exclamation Marks</th>\n",
       "      <th>Has Dollar Signs</th>\n",
       "      <th>Contains \"Buy\"</th>\n",
       "      <th>Spam</th>\n",
       "    </tr>\n",
       "  </thead>\n",
       "  <tbody>\n",
       "    <tr>\n",
       "      <th>0</th>\n",
       "      <td>50</td>\n",
       "      <td>1</td>\n",
       "      <td>0</td>\n",
       "      <td>0</td>\n",
       "      <td>0</td>\n",
       "      <td>0</td>\n",
       "    </tr>\n",
       "    <tr>\n",
       "      <th>1</th>\n",
       "      <td>200</td>\n",
       "      <td>1</td>\n",
       "      <td>1</td>\n",
       "      <td>1</td>\n",
       "      <td>1</td>\n",
       "      <td>1</td>\n",
       "    </tr>\n",
       "    <tr>\n",
       "      <th>2</th>\n",
       "      <td>30</td>\n",
       "      <td>0</td>\n",
       "      <td>0</td>\n",
       "      <td>0</td>\n",
       "      <td>0</td>\n",
       "      <td>0</td>\n",
       "    </tr>\n",
       "    <tr>\n",
       "      <th>3</th>\n",
       "      <td>150</td>\n",
       "      <td>1</td>\n",
       "      <td>1</td>\n",
       "      <td>0</td>\n",
       "      <td>1</td>\n",
       "      <td>1</td>\n",
       "    </tr>\n",
       "    <tr>\n",
       "      <th>4</th>\n",
       "      <td>80</td>\n",
       "      <td>0</td>\n",
       "      <td>0</td>\n",
       "      <td>0</td>\n",
       "      <td>0</td>\n",
       "      <td>0</td>\n",
       "    </tr>\n",
       "    <tr>\n",
       "      <th>5</th>\n",
       "      <td>300</td>\n",
       "      <td>1</td>\n",
       "      <td>1</td>\n",
       "      <td>1</td>\n",
       "      <td>1</td>\n",
       "      <td>1</td>\n",
       "    </tr>\n",
       "    <tr>\n",
       "      <th>6</th>\n",
       "      <td>60</td>\n",
       "      <td>0</td>\n",
       "      <td>1</td>\n",
       "      <td>0</td>\n",
       "      <td>0</td>\n",
       "      <td>0</td>\n",
       "    </tr>\n",
       "    <tr>\n",
       "      <th>7</th>\n",
       "      <td>250</td>\n",
       "      <td>1</td>\n",
       "      <td>1</td>\n",
       "      <td>0</td>\n",
       "      <td>1</td>\n",
       "      <td>1</td>\n",
       "    </tr>\n",
       "  </tbody>\n",
       "</table>\n",
       "</div>"
      ],
      "text/plain": [
       "   Email Length  Has Links  Has Exclamation Marks  Has Dollar Signs  \\\n",
       "0            50          1                      0                 0   \n",
       "1           200          1                      1                 1   \n",
       "2            30          0                      0                 0   \n",
       "3           150          1                      1                 0   \n",
       "4            80          0                      0                 0   \n",
       "5           300          1                      1                 1   \n",
       "6            60          0                      1                 0   \n",
       "7           250          1                      1                 0   \n",
       "\n",
       "   Contains \"Buy\"  Spam  \n",
       "0               0     0  \n",
       "1               1     1  \n",
       "2               0     0  \n",
       "3               1     1  \n",
       "4               0     0  \n",
       "5               1     1  \n",
       "6               0     0  \n",
       "7               1     1  "
      ]
     },
     "execution_count": 6,
     "metadata": {},
     "output_type": "execute_result"
    }
   ],
   "source": [
    "df.head(8)"
   ]
  },
  {
   "cell_type": "code",
   "execution_count": 7,
   "id": "d2efa196-6512-40bb-96ea-639a9f91a3f5",
   "metadata": {},
   "outputs": [],
   "source": [
    "# Split data into features (X) and target (y)\n",
    "X = df[['Email Length', 'Has Links', 'Has Exclamation Marks', 'Has Dollar Signs', 'Contains \"Buy\"']]\n",
    "y = df['Spam']\n",
    "\n",
    "# Step 1: Split the dataset into training and testing sets\n",
    "X_train, X_test, y_train, y_test = train_test_split(X, y, test_size=0.33, random_state=42)"
   ]
  },
  {
   "cell_type": "code",
   "execution_count": 8,
   "id": "e5613297-5fdf-4e90-99bd-12c530f825c6",
   "metadata": {},
   "outputs": [
    {
     "data": {
      "text/html": [
       "<div>\n",
       "<style scoped>\n",
       "    .dataframe tbody tr th:only-of-type {\n",
       "        vertical-align: middle;\n",
       "    }\n",
       "\n",
       "    .dataframe tbody tr th {\n",
       "        vertical-align: top;\n",
       "    }\n",
       "\n",
       "    .dataframe thead th {\n",
       "        text-align: right;\n",
       "    }\n",
       "</style>\n",
       "<table border=\"1\" class=\"dataframe\">\n",
       "  <thead>\n",
       "    <tr style=\"text-align: right;\">\n",
       "      <th></th>\n",
       "      <th>Email Length</th>\n",
       "      <th>Has Links</th>\n",
       "      <th>Has Exclamation Marks</th>\n",
       "      <th>Has Dollar Signs</th>\n",
       "      <th>Contains \"Buy\"</th>\n",
       "    </tr>\n",
       "  </thead>\n",
       "  <tbody>\n",
       "    <tr>\n",
       "      <th>7</th>\n",
       "      <td>250</td>\n",
       "      <td>1</td>\n",
       "      <td>1</td>\n",
       "      <td>0</td>\n",
       "      <td>1</td>\n",
       "    </tr>\n",
       "    <tr>\n",
       "      <th>2</th>\n",
       "      <td>30</td>\n",
       "      <td>0</td>\n",
       "      <td>0</td>\n",
       "      <td>0</td>\n",
       "      <td>0</td>\n",
       "    </tr>\n",
       "    <tr>\n",
       "      <th>4</th>\n",
       "      <td>80</td>\n",
       "      <td>0</td>\n",
       "      <td>0</td>\n",
       "      <td>0</td>\n",
       "      <td>0</td>\n",
       "    </tr>\n",
       "    <tr>\n",
       "      <th>3</th>\n",
       "      <td>150</td>\n",
       "      <td>1</td>\n",
       "      <td>1</td>\n",
       "      <td>0</td>\n",
       "      <td>1</td>\n",
       "    </tr>\n",
       "    <tr>\n",
       "      <th>6</th>\n",
       "      <td>60</td>\n",
       "      <td>0</td>\n",
       "      <td>1</td>\n",
       "      <td>0</td>\n",
       "      <td>0</td>\n",
       "    </tr>\n",
       "  </tbody>\n",
       "</table>\n",
       "</div>"
      ],
      "text/plain": [
       "   Email Length  Has Links  Has Exclamation Marks  Has Dollar Signs  \\\n",
       "7           250          1                      1                 0   \n",
       "2            30          0                      0                 0   \n",
       "4            80          0                      0                 0   \n",
       "3           150          1                      1                 0   \n",
       "6            60          0                      1                 0   \n",
       "\n",
       "   Contains \"Buy\"  \n",
       "7               1  \n",
       "2               0  \n",
       "4               0  \n",
       "3               1  \n",
       "6               0  "
      ]
     },
     "execution_count": 8,
     "metadata": {},
     "output_type": "execute_result"
    }
   ],
   "source": [
    "X_train"
   ]
  },
  {
   "cell_type": "code",
   "execution_count": 9,
   "id": "f13ff21f-41a3-48e7-b3ca-8da00730b4a8",
   "metadata": {},
   "outputs": [
    {
     "data": {
      "text/html": [
       "<div>\n",
       "<style scoped>\n",
       "    .dataframe tbody tr th:only-of-type {\n",
       "        vertical-align: middle;\n",
       "    }\n",
       "\n",
       "    .dataframe tbody tr th {\n",
       "        vertical-align: top;\n",
       "    }\n",
       "\n",
       "    .dataframe thead th {\n",
       "        text-align: right;\n",
       "    }\n",
       "</style>\n",
       "<table border=\"1\" class=\"dataframe\">\n",
       "  <thead>\n",
       "    <tr style=\"text-align: right;\">\n",
       "      <th></th>\n",
       "      <th>Email Length</th>\n",
       "      <th>Has Links</th>\n",
       "      <th>Has Exclamation Marks</th>\n",
       "      <th>Has Dollar Signs</th>\n",
       "      <th>Contains \"Buy\"</th>\n",
       "    </tr>\n",
       "  </thead>\n",
       "  <tbody>\n",
       "    <tr>\n",
       "      <th>1</th>\n",
       "      <td>200</td>\n",
       "      <td>1</td>\n",
       "      <td>1</td>\n",
       "      <td>1</td>\n",
       "      <td>1</td>\n",
       "    </tr>\n",
       "    <tr>\n",
       "      <th>5</th>\n",
       "      <td>300</td>\n",
       "      <td>1</td>\n",
       "      <td>1</td>\n",
       "      <td>1</td>\n",
       "      <td>1</td>\n",
       "    </tr>\n",
       "    <tr>\n",
       "      <th>0</th>\n",
       "      <td>50</td>\n",
       "      <td>1</td>\n",
       "      <td>0</td>\n",
       "      <td>0</td>\n",
       "      <td>0</td>\n",
       "    </tr>\n",
       "  </tbody>\n",
       "</table>\n",
       "</div>"
      ],
      "text/plain": [
       "   Email Length  Has Links  Has Exclamation Marks  Has Dollar Signs  \\\n",
       "1           200          1                      1                 1   \n",
       "5           300          1                      1                 1   \n",
       "0            50          1                      0                 0   \n",
       "\n",
       "   Contains \"Buy\"  \n",
       "1               1  \n",
       "5               1  \n",
       "0               0  "
      ]
     },
     "execution_count": 9,
     "metadata": {},
     "output_type": "execute_result"
    }
   ],
   "source": [
    "X_test"
   ]
  },
  {
   "cell_type": "code",
   "execution_count": 10,
   "id": "bae19036-a40c-4071-83bb-dc5d08ad891d",
   "metadata": {},
   "outputs": [
    {
     "data": {
      "text/plain": [
       "7    1\n",
       "2    0\n",
       "4    0\n",
       "3    1\n",
       "6    0\n",
       "Name: Spam, dtype: int64"
      ]
     },
     "execution_count": 10,
     "metadata": {},
     "output_type": "execute_result"
    }
   ],
   "source": [
    "y_train"
   ]
  },
  {
   "cell_type": "code",
   "execution_count": 11,
   "id": "04f62263-90e1-4a22-b2d2-a1f666b61655",
   "metadata": {},
   "outputs": [
    {
     "data": {
      "text/plain": [
       "1    1\n",
       "5    1\n",
       "0    0\n",
       "Name: Spam, dtype: int64"
      ]
     },
     "execution_count": 11,
     "metadata": {},
     "output_type": "execute_result"
    }
   ],
   "source": [
    "y_test"
   ]
  },
  {
   "cell_type": "code",
   "execution_count": 12,
   "id": "80ce39ee-dd71-4ace-a7df-c18cf8230d16",
   "metadata": {},
   "outputs": [],
   "source": [
    "from sklearn.linear_model import LogisticRegression"
   ]
  },
  {
   "cell_type": "code",
   "execution_count": 13,
   "id": "a4437f98-b641-4ede-ab63-929d830087e7",
   "metadata": {},
   "outputs": [],
   "source": [
    "# Step 2: Create the Logistic Regression model\n",
    "model = LogisticRegression()\n",
    "\n",
    "# Step 3: Train the model\n",
    "model.fit(X_train, y_train)\n",
    "\n",
    "# Step 4: Make predictions on the test set\n",
    "y_pred = model.predict(X_test)\n"
   ]
  },
  {
   "cell_type": "code",
   "execution_count": 14,
   "id": "cea610d1-487e-40df-b550-ac0efd94a4d5",
   "metadata": {},
   "outputs": [
    {
     "name": "stdout",
     "output_type": "stream",
     "text": [
      "Model Details:\n",
      "Intercept (Bias): -19.820151024789116\n",
      "Coefficients: [0.17217975 0.00243621 0.0023741  0.         0.00243621]\n"
     ]
    }
   ],
   "source": [
    "# Print model details\n",
    "print(\"Model Details:\")\n",
    "print(f\"Intercept (Bias): {model.intercept_[0]}\")\n",
    "print(f\"Coefficients: {model.coef_[0]}\")"
   ]
  },
  {
   "cell_type": "code",
   "execution_count": 15,
   "id": "083a7a9a-0881-4e99-9542-a1436f1bd267",
   "metadata": {},
   "outputs": [],
   "source": [
    "from sklearn.metrics import accuracy_score, confusion_matrix, classification_report"
   ]
  },
  {
   "cell_type": "code",
   "execution_count": 16,
   "id": "aee1f5f0-fd17-4585-9d74-f4ea373179f0",
   "metadata": {},
   "outputs": [
    {
     "name": "stdout",
     "output_type": "stream",
     "text": [
      "Accuracy: 1.0\n",
      "Confusion Matrix:\n",
      "[[1 0]\n",
      " [0 2]]\n",
      "Classification Report:\n",
      "              precision    recall  f1-score   support\n",
      "\n",
      "           0       1.00      1.00      1.00         1\n",
      "           1       1.00      1.00      1.00         2\n",
      "\n",
      "    accuracy                           1.00         3\n",
      "   macro avg       1.00      1.00      1.00         3\n",
      "weighted avg       1.00      1.00      1.00         3\n",
      "\n",
      "Predicted Probabilities:\n",
      "[[4.45955395e-07 9.99999554e-01]\n",
      " [1.48769885e-14 1.00000000e+00]\n",
      " [9.99986445e-01 1.35551958e-05]]\n"
     ]
    }
   ],
   "source": [
    "# Step 5: Evaluate the model\n",
    "accuracy = accuracy_score(y_test, y_pred)\n",
    "conf_matrix = confusion_matrix(y_test, y_pred)\n",
    "\n",
    "print(f\"Accuracy: {accuracy}\")\n",
    "print(\"Confusion Matrix:\")\n",
    "print(conf_matrix)\n",
    "print(\"Classification Report:\")\n",
    "print(classification_report(y_test, y_pred))\n",
    "\n",
    "# Optional: Predict probabilities\n",
    "y_pred_proba = model.predict_proba(X_test)\n",
    "print(\"Predicted Probabilities:\")\n",
    "print(y_pred_proba)\n"
   ]
  },
  {
   "cell_type": "code",
   "execution_count": null,
   "id": "2342e44a-0278-45fd-9a6f-76056828b2b8",
   "metadata": {},
   "outputs": [],
   "source": []
  }
 ],
 "metadata": {
  "kernelspec": {
   "display_name": "Python 3 (ipykernel)",
   "language": "python",
   "name": "python3"
  },
  "language_info": {
   "codemirror_mode": {
    "name": "ipython",
    "version": 3
   },
   "file_extension": ".py",
   "mimetype": "text/x-python",
   "name": "python",
   "nbconvert_exporter": "python",
   "pygments_lexer": "ipython3",
   "version": "3.12.5"
  }
 },
 "nbformat": 4,
 "nbformat_minor": 5
}
